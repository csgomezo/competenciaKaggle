{
 "cells": [
  {
   "cell_type": "code",
   "execution_count": 19,
   "id": "56974ba6",
   "metadata": {},
   "outputs": [
    {
     "name": "stderr",
     "output_type": "stream",
     "text": [
      "[nltk_data] Downloading package stopwords to\n",
      "[nltk_data]     C:\\Users\\carlo\\AppData\\Roaming\\nltk_data...\n",
      "[nltk_data]   Package stopwords is already up-to-date!\n"
     ]
    }
   ],
   "source": [
    "from flask import Flask\n",
    "from flask_restx import Api, Resource, fields\n",
    "from sklearn.feature_extraction.text import TfidfVectorizer\n",
    "import joblib\n",
    "import nltk\n",
    "import re\n",
    "nltk.download('stopwords')\n",
    "\n",
    "def clean_text(text):\n",
    "    # remove backslash-apostrophe \n",
    "    text = re.sub(\"\\'\", \"\", text) \n",
    "    # remove everything except alphabets \n",
    "    text = re.sub(\"[^a-zA-Z]\",\" \",text) \n",
    "    # remove whitespaces \n",
    "    text = ' '.join(text.split()) \n",
    "    # convert text to lowercase \n",
    "    text = text.lower() \n",
    "    \n",
    "    return text\n",
    "\n",
    "from nltk.corpus import stopwords\n",
    "stop_words = set(stopwords.words('english'))\n",
    "\n",
    "# function to remove stopwords\n",
    "def remove_stopwords(text):\n",
    "    no_stopword_text = [w for w in text.split() if not w in stop_words]\n",
    "    return ' '.join(no_stopword_text)\n",
    "\n",
    "\n",
    "Model = joblib.load('movie_genres_real.pkl')\n",
    "tfidfVectorizer = joblib.load('tf_idf_vectorizer.pkl')"
   ]
  },
  {
   "cell_type": "code",
   "execution_count": 24,
   "id": "75355fff",
   "metadata": {},
   "outputs": [
    {
     "name": "stdout",
     "output_type": "stream",
     "text": [
      "  (0, 9969)\t0.24129741267070795\n",
      "  (0, 9717)\t0.1704627697282757\n",
      "  (0, 9473)\t0.11235921760552552\n",
      "  (0, 9339)\t0.0682637409090049\n",
      "  (0, 9179)\t0.14890240885169237\n",
      "  (0, 9167)\t0.08873778904168894\n",
      "  (0, 9044)\t0.14684134116443912\n",
      "  (0, 9020)\t0.41088918763084487\n",
      "  (0, 8681)\t0.1449359796530808\n",
      "  (0, 8356)\t0.11312782683308034\n",
      "  (0, 8285)\t0.09773814314763674\n",
      "  (0, 8136)\t0.1813331682620479\n",
      "  (0, 8069)\t0.18554861973225756\n",
      "  (0, 7917)\t0.19358449776387907\n",
      "  (0, 7731)\t0.13010374034730582\n",
      "  (0, 7218)\t0.15563053042250075\n",
      "  (0, 6493)\t0.15426619534590869\n",
      "  (0, 6484)\t0.10187660278980139\n",
      "  (0, 6261)\t0.05692836103397488\n",
      "  (0, 6084)\t0.09882131596095695\n",
      "  (0, 5923)\t0.14150915649284512\n",
      "  (0, 5699)\t0.12588828887709616\n",
      "  (0, 5694)\t0.1529718576847023\n",
      "  (0, 5643)\t0.08584273001255943\n",
      "  (0, 5443)\t0.06830774101093932\n",
      "  (0, 5312)\t0.14944509755397783\n",
      "  (0, 5306)\t0.07418193861148471\n",
      "  (0, 5145)\t0.2889625994941534\n",
      "  (0, 5142)\t0.12524941799222644\n",
      "  (0, 4565)\t0.12303625080946176\n",
      "  (0, 3833)\t0.08204126929350292\n",
      "  (0, 3373)\t0.1594038219830266\n",
      "  (0, 3365)\t0.11006911727760256\n",
      "  (0, 3327)\t0.26282299361623795\n",
      "  (0, 2153)\t0.16923159618532102\n",
      "  (0, 1012)\t0.17772215412294662\n",
      "  (0, 759)\t0.14150915649284512\n",
      "  (0, 612)\t0.14837114602782983\n",
      "  (0, 271)\t0.09724814615809874\n"
     ]
    }
   ],
   "source": [
    "print(tfidfVectorizer.transform([strin_final]))"
   ]
  },
  {
   "cell_type": "code",
   "execution_count": 26,
   "id": "94ad40d4",
   "metadata": {},
   "outputs": [
    {
     "name": "stdout",
     "output_type": "stream",
     "text": [
      "  (0, 9969)\t0.24129741267070795\n",
      "  (0, 9717)\t0.1704627697282757\n",
      "  (0, 9473)\t0.11235921760552552\n",
      "  (0, 9339)\t0.0682637409090049\n",
      "  (0, 9179)\t0.14890240885169237\n",
      "  (0, 9167)\t0.08873778904168894\n",
      "  (0, 9044)\t0.14684134116443912\n",
      "  (0, 9020)\t0.41088918763084487\n",
      "  (0, 8681)\t0.1449359796530808\n",
      "  (0, 8356)\t0.11312782683308034\n",
      "  (0, 8285)\t0.09773814314763674\n",
      "  (0, 8136)\t0.1813331682620479\n",
      "  (0, 8069)\t0.18554861973225756\n",
      "  (0, 7917)\t0.19358449776387907\n",
      "  (0, 7731)\t0.13010374034730582\n",
      "  (0, 7218)\t0.15563053042250075\n",
      "  (0, 6493)\t0.15426619534590869\n",
      "  (0, 6484)\t0.10187660278980139\n",
      "  (0, 6261)\t0.05692836103397488\n",
      "  (0, 6084)\t0.09882131596095695\n",
      "  (0, 5923)\t0.14150915649284512\n",
      "  (0, 5699)\t0.12588828887709616\n",
      "  (0, 5694)\t0.1529718576847023\n",
      "  (0, 5643)\t0.08584273001255943\n",
      "  (0, 5443)\t0.06830774101093932\n",
      "  (0, 5312)\t0.14944509755397783\n",
      "  (0, 5306)\t0.07418193861148471\n",
      "  (0, 5145)\t0.2889625994941534\n",
      "  (0, 5142)\t0.12524941799222644\n",
      "  (0, 4565)\t0.12303625080946176\n",
      "  (0, 3833)\t0.08204126929350292\n",
      "  (0, 3373)\t0.1594038219830266\n",
      "  (0, 3365)\t0.11006911727760256\n",
      "  (0, 3327)\t0.26282299361623795\n",
      "  (0, 2153)\t0.16923159618532102\n",
      "  (0, 1012)\t0.17772215412294662\n",
      "  (0, 759)\t0.14150915649284512\n",
      "  (0, 612)\t0.14837114602782983\n",
      "  (0, 271)\t0.09724814615809874\n"
     ]
    }
   ],
   "source": [
    "strin = \"who meets by fate ,  shall be sealed by fate .  theresa osborne is running along the beach when she stumbles upon a bottle washed up on the shore .  inside is a message ,  reading the letter she feels so moved and yet she felt as if she has violated someone ' s thoughts .  in love with a man she has never met ,  theresa tracks down the author of the letter to a small town in wilmington ,  two lovers with crossed paths .  but yet one can ' t let go of their past .\"\n",
    "strin = clean_text(strin)\n",
    "strin_final = remove_stopwords(strin)\n",
    "train_Data = tfidfVectorizer.transform([strin_final])\n",
    "print(train_Data)"
   ]
  },
  {
   "cell_type": "code",
   "execution_count": 4,
   "id": "14be3a8e",
   "metadata": {},
   "outputs": [
    {
     "name": "stdout",
     "output_type": "stream",
     "text": [
      "Collecting flask_restx\n",
      "  Downloading flask_restx-1.1.0-py2.py3-none-any.whl (2.8 MB)\n",
      "     ---------------------------------------- 2.8/2.8 MB 73.2 kB/s eta 0:00:00\n",
      "Requirement already satisfied: aniso8601>=0.82 in d:\\anaconda\\lib\\site-packages (from flask_restx) (9.0.1)\n",
      "Requirement already satisfied: jsonschema in d:\\anaconda\\lib\\site-packages (from flask_restx) (4.4.0)\n",
      "Requirement already satisfied: Flask!=2.0.0,>=0.8 in d:\\anaconda\\lib\\site-packages (from flask_restx) (1.1.2)\n",
      "Requirement already satisfied: werkzeug!=2.0.0 in d:\\anaconda\\lib\\site-packages (from flask_restx) (2.0.3)\n",
      "Requirement already satisfied: pytz in d:\\anaconda\\lib\\site-packages (from flask_restx) (2021.3)\n",
      "Requirement already satisfied: Jinja2>=2.10.1 in d:\\anaconda\\lib\\site-packages (from Flask!=2.0.0,>=0.8->flask_restx) (2.11.3)\n",
      "Requirement already satisfied: itsdangerous>=0.24 in d:\\anaconda\\lib\\site-packages (from Flask!=2.0.0,>=0.8->flask_restx) (2.0.1)\n",
      "Requirement already satisfied: click>=5.1 in d:\\anaconda\\lib\\site-packages (from Flask!=2.0.0,>=0.8->flask_restx) (8.0.4)\n",
      "Requirement already satisfied: attrs>=17.4.0 in d:\\anaconda\\lib\\site-packages (from jsonschema->flask_restx) (21.4.0)\n",
      "Requirement already satisfied: pyrsistent!=0.17.0,!=0.17.1,!=0.17.2,>=0.14.0 in d:\\anaconda\\lib\\site-packages (from jsonschema->flask_restx) (0.18.0)\n",
      "Requirement already satisfied: colorama in d:\\anaconda\\lib\\site-packages (from click>=5.1->Flask!=2.0.0,>=0.8->flask_restx) (0.4.4)\n",
      "Requirement already satisfied: MarkupSafe>=0.23 in d:\\anaconda\\lib\\site-packages (from Jinja2>=2.10.1->Flask!=2.0.0,>=0.8->flask_restx) (2.0.1)\n",
      "Installing collected packages: flask_restx\n",
      "Successfully installed flask_restx-1.1.0\n",
      "Note: you may need to restart the kernel to use updated packages.\n"
     ]
    },
    {
     "name": "stderr",
     "output_type": "stream",
     "text": [
      "WARNING: Ignoring invalid distribution -rotobuf (d:\\anaconda\\lib\\site-packages)\n",
      "WARNING: Ignoring invalid distribution -rotobuf (d:\\anaconda\\lib\\site-packages)\n"
     ]
    }
   ],
   "source": [
    "pip install flask_restx"
   ]
  },
  {
   "cell_type": "code",
   "execution_count": 28,
   "id": "834e7cae",
   "metadata": {},
   "outputs": [],
   "source": [
    "# Definición aplicación Flask\n",
    "app = Flask(__name__)\n",
    "\n",
    "# Definición API Flask\n",
    "api = Api(\n",
    "    app, \n",
    "    version='1.0', \n",
    "    title='Movies genres API',\n",
    "    description='Movies genres API')\n",
    "\n",
    "ns = api.namespace('predict', \n",
    "     description='Movie Genres Classifier')\n",
    "\n",
    "# Definición argumentos o parámetros de la API\n",
    "parser = api.parser()\n",
    "parser.add_argument(\n",
    "    'text', \n",
    "    type=str, \n",
    "    required=True, \n",
    "    help='URL to be analyzed', \n",
    "    location='args')\n",
    "\n",
    "resource_fields = api.model('Resource', {\n",
    "    'result': fields.String,\n",
    "})"
   ]
  },
  {
   "cell_type": "code",
   "execution_count": 29,
   "id": "03a5f127",
   "metadata": {},
   "outputs": [],
   "source": [
    "#from model_deployment.m09_model_deployment import predict_proba\n",
    "\n",
    "# Definición de la clase para disponibilización\n",
    "@ns.route('/')\n",
    "class MoviePrediction(Resource):\n",
    "\n",
    "    @api.doc(parser=parser)\n",
    "    @api.marshal_with(resource_fields)\n",
    "    def get(self):\n",
    "        args = parser.parse_args()\n",
    "        data = tfidfVectorizer.transform([args['text']])\n",
    "        \n",
    "        return {\n",
    "         \"result\": Model.predict_proba(data)\n",
    "        }, 200"
   ]
  },
  {
   "cell_type": "code",
   "execution_count": null,
   "id": "d5824603",
   "metadata": {},
   "outputs": [
    {
     "name": "stdout",
     "output_type": "stream",
     "text": [
      " * Serving Flask app \"__main__\" (lazy loading)\n",
      " * Environment: production\n",
      "\u001b[31m   WARNING: This is a development server. Do not use it in a production deployment.\u001b[0m\n",
      "\u001b[2m   Use a production WSGI server instead.\u001b[0m\n",
      " * Debug mode: on\n"
     ]
    },
    {
     "name": "stderr",
     "output_type": "stream",
     "text": [
      " * Running on all addresses.\n",
      "   WARNING: This is a development server. Do not use it in a production deployment.\n",
      " * Running on http://192.168.150.4:5000/ (Press CTRL+C to quit)\n",
      "192.168.150.4 - - [28/May/2023 01:42:53] \"GET /predict/?text=%22who%20meets%20by%20fate%20%2C%20%20shall%20be%20sealed%20by%20fate%20.%20%20theresa%20osborne%20is%20running%20along%20the%20beach%20when%20she%20stumbles%20upon%20a%20bottle%20washed%20up%20on%20the%20shore%20.%20%20inside%20is%20a%20message%20%2C%20%20reading%20the%20letter%20she%20feels%20so%20moved%20and%20yet%20she%20felt%20as%20if%20she%20has%20violated%20someone%20%27%20s%20thoughts%20.%20%20in%20love%20with%20a%20man%20she%20has%20never%20met%20%2C%20%20theresa%20tracks%20down%20the%20author%20of%20the%20letter%20to%20a%20small%20town%20in%20wilmington%20%2C%20%20two%20lovers%20with%20crossed%20paths%20.%20%20but%20yet%20one%20can%20%27%20t%20let%20go%20of%20their%20past%20.%22 HTTP/1.1\" 200 -\n"
     ]
    }
   ],
   "source": [
    "# Ejecución de la aplicación que disponibiliza el modelo de manera local en el puerto 5000\n",
    "app.run(debug=True, use_reloader=False, host='0.0.0.0', port=5000)"
   ]
  }
 ],
 "metadata": {
  "kernelspec": {
   "display_name": "Python 3 (ipykernel)",
   "language": "python",
   "name": "python3"
  },
  "language_info": {
   "codemirror_mode": {
    "name": "ipython",
    "version": 3
   },
   "file_extension": ".py",
   "mimetype": "text/x-python",
   "name": "python",
   "nbconvert_exporter": "python",
   "pygments_lexer": "ipython3",
   "version": "3.9.12"
  }
 },
 "nbformat": 4,
 "nbformat_minor": 5
}
